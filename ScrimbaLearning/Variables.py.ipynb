{
 "cells": [
  {
   "cell_type": "code",
   "execution_count": 7,
   "metadata": {},
   "outputs": [
    {
     "name": "stdout",
     "output_type": "stream",
     "text": [
      "Dear Mrs Badger\n",
      "Your son Eric is failing 6 subjects.\n",
      "Eric will need to redo 6 courses.\n",
      "Eric is doing well in geography.\n"
     ]
    }
   ],
   "source": [
    "failed_subjects = \"6\"\n",
    "print('Dear Mrs Badger')\n",
    "print('Your son John is failing ' + failed_subjects + ' subjects.')\n",
    "print('John will need to redo ' + failed_subjects + ' courses.')\n",
    "print('Eric is doing well in geography.')"
   ]
  },
  {
   "cell_type": "code",
   "execution_count": 13,
   "metadata": {},
   "outputs": [
    {
     "name": "stdout",
     "output_type": "stream",
     "text": [
      "Dear Mrs Badger\n",
      "Your son John is failing6subjects.\n",
      "John will need to redo6courses.\n",
      "Eric is doing well in geography.\n"
     ]
    }
   ],
   "source": [
    "failed_subjects = \"6\"\n",
    "Name = 'John'\n",
    "print('Dear Mrs Badger')\n",
    "print('Your son ' + Name + ' is failing' + failed_subjects + 'subjects.')\n",
    "print( Name + ' will need to redo' + failed_subjects + 'courses.')\n",
    "Name = 'Eric'\n",
    "print( Name + ' is doing well in geography.')"
   ]
  },
  {
   "cell_type": "markdown",
   "metadata": {},
   "source": [
    "+ it doesn't matter '' or \"\""
   ]
  },
  {
   "cell_type": "code",
   "execution_count": 14,
   "metadata": {},
   "outputs": [
    {
     "name": "stdout",
     "output_type": "stream",
     "text": [
      "Dear Mrs Badger\n",
      "Your son John is failing 2 subjects.\n",
      "John  will need to redo 2  courses.\n",
      "Eric  is doing well in geography.\n",
      "<class 'str'>\n",
      "<class 'int'>\n",
      "<class 'float'>\n",
      "<class 'bool'>\n"
     ]
    }
   ],
   "source": [
    "failed_subjects=2\n",
    "name='John'\n",
    "print('Dear Mrs Badger')\n",
    "print('Your son ' + name + ' is failing ' + str(failed_subjects) + ' subjects.')\n",
    "print(name + '  will need to redo ' + str(failed_subjects) + '  courses.')\n",
    "name=\"Eric\"\n",
    "print(name + '  is doing well in geography.')\n",
    "\n",
    "print(type('hello'))\n",
    "print(type(1))\n",
    "print(type(1.64))\n",
    "print(type(True))\n"
   ]
  },
  {
   "cell_type": "markdown",
   "metadata": {},
   "source": [
    "+ str(integer_name) is like saying\"hi, interger. I don't want you to be interger anymore, be string!\"\n",
    "+ Here shows how to see the datatype of vairables"
   ]
  },
  {
   "cell_type": "code",
   "execution_count": 17,
   "metadata": {},
   "outputs": [
    {
     "name": "stdout",
     "output_type": "stream",
     "text": [
      "[1, 2, 3, 1.0, 2.5, 3.0, 4.23, '80s', '22', '3.01']\n"
     ]
    }
   ],
   "source": [
    "a = int(1)        # a will be 1\n",
    "b = int(2.5)      # b will be 2\n",
    "c = int(\"3\")      # c will be 3 as interger\n",
    "c1 = int(float(\"3.4\"))   # c1 will be 3\n",
    "d = float(1)      # d will be 1.0\n",
    "e = float(2.5)    # e will be 2.5\n",
    "f = float(\"3\")    # f will be 3.0 as string\n",
    "g = float(\"4.23\") # g will be 4.23 as string\n",
    "h = str(\"80s\")    # h will be '80s' as string\n",
    "i = str(22)       # i will be '22'\n",
    "j = str(3.01)     # j will be '3.01'\n",
    "\n",
    "print([a,b,c,d,e,f,g,h,i,j])"
   ]
  },
  {
   "cell_type": "code",
   "execution_count": 19,
   "metadata": {},
   "outputs": [
    {
     "name": "stdout",
     "output_type": "stream",
     "text": [
      "Variables & Datatypes - Exercise\n",
      "widget 23.5 100\n"
     ]
    }
   ],
   "source": [
    "print('Variables & Datatypes - Exercise')\n",
    "#Create appropriate Variables for Item name, the price \n",
    "#and how many you have in stock\n",
    "\n",
    "item_name = 'widget'\n",
    "price = 23.5\n",
    "inventory = 100\n",
    "print(item_name, price, inventory)"
   ]
  },
  {
   "cell_type": "code",
   "execution_count": null,
   "metadata": {},
   "outputs": [],
   "source": []
  }
 ],
 "metadata": {
  "kernelspec": {
   "display_name": "Python_3-6",
   "language": "python",
   "name": "python_3-6"
  },
  "language_info": {
   "codemirror_mode": {
    "name": "ipython",
    "version": 3
   },
   "file_extension": ".py",
   "mimetype": "text/x-python",
   "name": "python",
   "nbconvert_exporter": "python",
   "pygments_lexer": "ipython3",
   "version": "3.6.15"
  }
 },
 "nbformat": 4,
 "nbformat_minor": 4
}
