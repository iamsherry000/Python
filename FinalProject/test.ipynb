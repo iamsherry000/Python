{
 "cells": [
  {
   "cell_type": "code",
   "execution_count": 76,
   "metadata": {
    "scrolled": true
   },
   "outputs": [
    {
     "name": "stdout",
     "output_type": "stream",
     "text": [
      "https://megapx.dcard.tw/v1/images/926dcd27-8107-4745-a07f-3c07a4baa93d/encode/640.webp\n",
      "https://megapx.dcard.tw/v1/images/04b254fc-c200-4370-87a2-9e4ed3737be2/encode/640.webp\n",
      "https://megapx.dcard.tw/v1/images/e86358af-892b-4d59-8b93-93a3feb495fb/encode/640.webp\n",
      "https://megapx.dcard.tw/v1/images/841cbdb3-4157-4d8e-8099-8c7ab1ae98c2/encode/640.webp\n",
      "https://megapx.dcard.tw/v1/images/1b00fa5c-94c6-4732-8539-b118800bb292/encode/640.webp\n",
      "https://megapx.dcard.tw/v1/images/fa7d1c2d-3f14-44bf-98a6-b705d8e49ad2/encode/640.webp\n",
      "https://megapx.dcard.tw/v1/images/a02dbbb6-785a-4af7-ac87-1fb8c69dacc6/encode/640.webp\n",
      "https://megapx.dcard.tw/v1/images/062a537d-d3b1-43fd-a4ef-46ad1a419c7b/encode/640.webp\n",
      "https://megapx.dcard.tw/v1/images/c235e205-afc2-4354-82d1-e1b508012e81/encode/640.webp\n",
      "https://megapx.dcard.tw/v1/images/11be655d-ab26-451f-a00a-6d1106d8e6fd/encode/640.webp\n",
      "https://megapx.dcard.tw/v1/images/ab8e9eb8-d491-44e2-ad55-10685c8dbfcc/encode/640.webp\n",
      "11\n"
     ]
    }
   ],
   "source": [
    "#Load all URL images with no likes\n",
    "import time\n",
    "import requests,os\n",
    "from bs4 import BeautifulSoup\n",
    "from urllib.request import urlopen\n",
    "from fake_useragent import UserAgent\n",
    "n=0\n",
    "\n",
    "ua = UserAgent()\n",
    "user_agent = ua.random\n",
    "headers = {'user-agent': user_agent}\n",
    "\n",
    "#headers = {'User-Agent': 'Mozilla/5.0 (Windows NT 10.0; Win64; x64; ServiceUI 14) AppleWebKit/537.36 (KHTML, like Gecko) Chrome/70.0.3538.102 Safari/537.36 Edge/18.18362'}\n",
    "url = 'https://www.dcard.tw/f/meme'\n",
    "html = requests.get(url,headers=headers)\n",
    "html.encoding=\"UTF-8\"\n",
    "\n",
    "sp = BeautifulSoup(html.text,'html.parser')\n",
    "#建立images存圖片\n",
    "#images_dir=\"C:/Users/a0920/Desktop/images/\"\n",
    "images_dir =\"D:/github/Python/FinalProject/images/\"\n",
    "if not os.path.exists(images_dir):\n",
    "    os.mkdir(images_dir)\n",
    "\n",
    "all_links=sp.find_all('img')\n",
    "for link in all_links:\n",
    "#取 src 和 href 屬性内容\n",
    "    src=link.get('src')\n",
    "    href = link.get('href') #指定一個URL看連結要到哪\n",
    "    attrs=[src,href]\n",
    "    if n == 11:\n",
    "        break\n",
    "    for attr in attrs:\n",
    "#讀取 .jpg 和 .png檔\n",
    "        if attr != None and ('.webp' in attr):\n",
    "            full_path = attr\n",
    "            filename= full_path.split('/')[-1]#取得圖檔名\n",
    "            print(full_path)\n",
    "#儲存圖片\n",
    "            try :\n",
    "                image = requests.get(full_path,headers=headers)\n",
    "                f = open(images_dir + filename + str(n) + \".jpg\", \"wb\")\n",
    "                f.write(image.content)\n",
    "                f.close()\n",
    "                n+=1\n",
    "                \n",
    "            except:\n",
    "                print(\"{}無法讀取!\".format(filename))\n",
    "print(n)"
   ]
  },
  {
   "cell_type": "code",
   "execution_count": 73,
   "metadata": {
    "scrolled": false
   },
   "outputs": [
    {
     "name": "stdout",
     "output_type": "stream",
     "text": [
      "https://megapx.dcard.tw/v1/images/926dcd27-8107-4745-a07f-3c07a4baa93d/encode/640.webp\n",
      "https://megapx.dcard.tw/v1/images/04b254fc-c200-4370-87a2-9e4ed3737be2/encode/640.webp\n",
      "https://megapx.dcard.tw/v1/images/e86358af-892b-4d59-8b93-93a3feb495fb/encode/640.webp\n",
      "https://megapx.dcard.tw/v1/images/841cbdb3-4157-4d8e-8099-8c7ab1ae98c2/encode/640.webp\n",
      "https://megapx.dcard.tw/v1/images/1b00fa5c-94c6-4732-8539-b118800bb292/encode/640.webp\n",
      "https://megapx.dcard.tw/v1/images/fa7d1c2d-3f14-44bf-98a6-b705d8e49ad2/encode/640.webp\n",
      "https://megapx.dcard.tw/v1/images/a02dbbb6-785a-4af7-ac87-1fb8c69dacc6/encode/640.webp\n",
      "https://megapx.dcard.tw/v1/images/062a537d-d3b1-43fd-a4ef-46ad1a419c7b/encode/640.webp\n",
      "https://megapx.dcard.tw/v1/images/c235e205-afc2-4354-82d1-e1b508012e81/encode/640.webp\n",
      "https://megapx.dcard.tw/v1/images/11be655d-ab26-451f-a00a-6d1106d8e6fd/encode/640.webp\n",
      "https://megapx.dcard.tw/v1/images/ab8e9eb8-d491-44e2-ad55-10685c8dbfcc/encode/640.webp\n",
      "[1925, 1677, 1229, 1142, 1113, 996, 975, 933, 701, 675]\n"
     ]
    }
   ],
   "source": [
    "#Load all URL images with likes\n",
    "import time\n",
    "import requests,os\n",
    "import json\n",
    "from bs4 import BeautifulSoup\n",
    "from urllib.request import urlopen\n",
    "from fake_useragent import UserAgent\n",
    "n=0\n",
    "\n",
    "ua = UserAgent()\n",
    "user_agent = ua.random\n",
    "headers = {'user-agent': user_agent}\n",
    "\n",
    "url = 'https://www.dcard.tw/f/meme'\n",
    "html = requests.get(url,headers=headers)\n",
    "html.encoding=\"UTF-8\"\n",
    "\n",
    "sp = BeautifulSoup(html.text,'html.parser')\n",
    "#建立images存圖片\n",
    "#images_dir=\"images/\"\n",
    "images_dir =\"D:/github/Python/FinalProject/images/\"\n",
    "if not os.path.exists(images_dir):\n",
    "    os.mkdir(images_dir)\n",
    "\n",
    "all_links=sp.find_all('img')\n",
    "for link in all_links:\n",
    "#取 src 和 href 屬性内容\n",
    "    src=link.get('src')\n",
    "    href = link.get('href') #指定一個URL看連結要到哪\n",
    "    attrs=[src,href]\n",
    "    if n == 11:\n",
    "        break\n",
    "    for attr in attrs:\n",
    "#讀取 .jpg 和 .png檔\n",
    "        if attr != None and ('.webp' in attr):\n",
    "            full_path = attr\n",
    "            filename= full_path.split('/')[-1]#取得圖檔名\n",
    "            print(full_path)#儲存圖片\n",
    "            try :\n",
    "                headers = {'user-agent':ua.random}\n",
    "                image = requests.get(full_path,headers=headers)\n",
    "                #if n<11:\n",
    "                    #print(full_path)#儲存圖片\n",
    "                f = open(images_dir + filename + str(n) + \".jpg\", \"wb\") #n從0開始跑，圖從n=1開始抓\n",
    "                f.write(image.content)\n",
    "                f.close()\n",
    "                n+=1\n",
    "            except:\n",
    "                print(\"{}無法讀取!\".format(filename))\n",
    "#以下使用api獲取按讚數\n",
    "#參考https://marketingliveincode.com/?p=5009\n",
    "alldata = []\n",
    "last_article = ''\n",
    "a=[]\n",
    "url = 'https://www.dcard.tw/service/api/v2/forums/meme/posts?popular=true&limit=10'\n",
    "for i in range(5):\n",
    "    if i != 0: # 判斷是否是第一次執行\n",
    "        request_url = url +'&before='+ str(last_article)\n",
    "    else:\n",
    "        request_url = url # 第一次執行，不須加上後方的before\n",
    "    headers = {'user-agent': ua.random}\n",
    "    list_req = requests.get(request_url,headers=headers) # 請求\n",
    "    #將整個網站的程式碼爬下來\n",
    "    getdata = json.loads(list_req.content)\n",
    "    alldata.extend(getdata) # 將另一個陣列插在最後面\n",
    "    \n",
    "    last_article = getdata[-1]['id'] # 取出最後一篇文章\n",
    "    #print(last_article)\n",
    "with open(\"test.txt\",\"w+\",encoding=\"UTF-8-sig\")as f:\n",
    "    for i in range(10):\n",
    "        a.append(alldata[i]['likeCount'])\n",
    "    print(a)\n",
    "    f.write(str(a))"
   ]
  },
  {
   "cell_type": "code",
   "execution_count": 30,
   "metadata": {},
   "outputs": [
    {
     "name": "stdout",
     "output_type": "stream",
     "text": [
      "1870\n",
      "1456\n",
      "1173\n",
      "1130\n",
      "1094\n",
      "970\n",
      "963\n",
      "861\n",
      "616\n",
      "557\n"
     ]
    }
   ],
   "source": [
    "for i in range (10):\n",
    "    b = a[i]\n",
    "    print(b)"
   ]
  },
  {
   "cell_type": "code",
   "execution_count": null,
   "metadata": {},
   "outputs": [],
   "source": []
  }
 ],
 "metadata": {
  "kernelspec": {
   "display_name": "Python 3",
   "language": "python",
   "name": "python3"
  },
  "language_info": {
   "codemirror_mode": {
    "name": "ipython",
    "version": 3
   },
   "file_extension": ".py",
   "mimetype": "text/x-python",
   "name": "python",
   "nbconvert_exporter": "python",
   "pygments_lexer": "ipython3",
   "version": "3.7.6"
  }
 },
 "nbformat": 4,
 "nbformat_minor": 4
}
