{
 "cells": [
  {
   "cell_type": "code",
   "execution_count": null,
   "metadata": {},
   "outputs": [],
   "source": [
    "import os \n",
    "import sys\n",
    "import shutil\n",
    "\n",
    "try:\n",
    "    base_dir = 'D:\\\\Python\\Hw11\\test_2'\n",
    "    dest_dir = 'D:\\\\Python\\Hw11\\test_1'\n",
    "    for fle in os.listdir(base_dir):\n",
    "        shutil.copy(os.path.join(base_dir,file))"
   ]
  }
 ],
 "metadata": {
  "kernelspec": {
   "display_name": "Python 3",
   "language": "python",
   "name": "python3"
  },
  "language_info": {
   "codemirror_mode": {
    "name": "ipython",
    "version": 3
   },
   "file_extension": ".py",
   "mimetype": "text/x-python",
   "name": "python",
   "nbconvert_exporter": "python",
   "pygments_lexer": "ipython3",
   "version": "3.7.6"
  }
 },
 "nbformat": 4,
 "nbformat_minor": 4
}
