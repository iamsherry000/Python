{
 "cells": [
  {
   "cell_type": "code",
   "execution_count": 27,
   "metadata": {
    "scrolled": true
   },
   "outputs": [
    {
     "name": "stdout",
     "output_type": "stream",
     "text": [
      "Opened database successfully\n"
     ]
    }
   ],
   "source": [
    "import sqlite3\n",
    "conn = sqlite3.connect('test.sqlite')\n",
    "cursor = conn.cursor()\n",
    "print(\"Opened database successfully\")"
   ]
  },
  {
   "cell_type": "code",
   "execution_count": 28,
   "metadata": {
    "scrolled": true
   },
   "outputs": [
    {
     "ename": "OperationalError",
     "evalue": "table SCHOOL already exists",
     "output_type": "error",
     "traceback": [
      "\u001b[1;31m---------------------------------------------------------------------------\u001b[0m",
      "\u001b[1;31mOperationalError\u001b[0m                          Traceback (most recent call last)",
      "\u001b[1;32m<ipython-input-28-1b358c041d11>\u001b[0m in \u001b[0;36m<module>\u001b[1;34m\u001b[0m\n\u001b[0;32m      3\u001b[0m                 \u001b[1;34m\"NAME\"\u001b[0m \u001b[0mTEXT\u001b[0m \u001b[0mNOT\u001b[0m \u001b[0mNULL\u001b[0m\u001b[1;33m,\u001b[0m\u001b[1;34m\"AGE\"\u001b[0m \u001b[0mINT\u001b[0m \u001b[0mNOT\u001b[0m \u001b[0mNULL\u001b[0m\u001b[1;33m,\u001b[0m\u001b[1;34m\"ADDRESS\"\u001b[0m \u001b[0mCHAR\u001b[0m\u001b[1;33m(\u001b[0m\u001b[1;36m50\u001b[0m\u001b[1;33m)\u001b[0m\u001b[1;33m,\u001b[0m\u001b[0;31m\\\u001b[0m\u001b[1;33m\u001b[0m\u001b[1;33m\u001b[0m\u001b[0m\n\u001b[0;32m      4\u001b[0m                 \"MARKS\" INT)'\n\u001b[1;32m----> 5\u001b[1;33m \u001b[0mcursor\u001b[0m\u001b[1;33m.\u001b[0m\u001b[0mexecute\u001b[0m\u001b[1;33m(\u001b[0m\u001b[0minset_stmt\u001b[0m\u001b[1;33m)\u001b[0m\u001b[1;33m\u001b[0m\u001b[1;33m\u001b[0m\u001b[0m\n\u001b[0m",
      "\u001b[1;31mOperationalError\u001b[0m: table SCHOOL already exists"
     ]
    }
   ],
   "source": [
    "#creat table\n",
    "inset_stmt = 'CREATE TABLE SCHOOL(\"ID\" INT PRIMARY KEY NOT NULL,\\\n",
    "                \"NAME\" TEXT NOT NULL,\"AGE\" INT NOT NULL,\"ADDRESS\" CHAR(50),\\\n",
    "                \"MARKS\" INT)'\n",
    "cursor.execute(inset_stmt)"
   ]
  },
  {
   "cell_type": "code",
   "execution_count": null,
   "metadata": {},
   "outputs": [],
   "source": [
    "# insert data\n",
    "cursor.execute(\"INSERT OR IGNORE INTO SCHOOL VALUES(1,'Rohan',14,'Delhi',200)\")\n",
    "cursor.execute(\"INSERT OR IGNORE INTO SCHOOL VALUES(2,'Allen',14,'Bangalore',150)\")\n",
    "cursor.execute(\"INSERT OR IGNORE INTO SCHOOL VALUES(3,'Martha',15,'Hyderabad',200)\")\n",
    "cursor.execute(\"INSERT OR IGNORE INTO SCHOOL VALUES(4,'Palak',15,'Kolkata',650)\")\n",
    "\n",
    "rows = cursor.execute(\"SELECT * form SCHOOL\").fetchall()\n",
    "print(\"inset data:\",rows)\n",
    "conn.commit()\n",
    "\n",
    "for row in rows:\n",
    "    print(\"ID = \",row[0],\"NAME = \",row[1],\"MARKS = \",row[4],\"\\n\")"
   ]
  },
  {
   "cell_type": "code",
   "execution_count": null,
   "metadata": {},
   "outputs": [],
   "source": []
  }
 ],
 "metadata": {
  "kernelspec": {
   "display_name": "Python 3",
   "language": "python",
   "name": "python3"
  },
  "language_info": {
   "codemirror_mode": {
    "name": "ipython",
    "version": 3
   },
   "file_extension": ".py",
   "mimetype": "text/x-python",
   "name": "python",
   "nbconvert_exporter": "python",
   "pygments_lexer": "ipython3",
   "version": "3.7.6"
  }
 },
 "nbformat": 4,
 "nbformat_minor": 4
}
