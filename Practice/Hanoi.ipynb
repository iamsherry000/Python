{
 "cells": [
  {
   "cell_type": "code",
   "execution_count": 1,
   "metadata": {},
   "outputs": [
    {
     "name": "stdout",
     "output_type": "stream",
     "text": [
      "請輸入整數：5\n",
      "盤由 A 移至 C\n",
      "盤由 A 移至 B\n",
      "盤由 C 移至 B\n",
      "盤由 A 移至 C\n",
      "盤由 B 移至 A\n",
      "盤由 B 移至 C\n",
      "盤由 A 移至 C\n",
      "盤由 A 移至 B\n",
      "盤由 C 移至 B\n",
      "盤由 C 移至 A\n",
      "盤由 B 移至 A\n",
      "盤由 C 移至 B\n",
      "盤由 A 移至 C\n",
      "盤由 A 移至 B\n",
      "盤由 C 移至 B\n",
      "盤由 A 移至 C\n",
      "盤由 B 移至 A\n",
      "盤由 B 移至 C\n",
      "盤由 A 移至 C\n",
      "盤由 B 移至 A\n",
      "盤由 C 移至 B\n",
      "盤由 C 移至 A\n",
      "盤由 B 移至 A\n",
      "盤由 B 移至 C\n",
      "盤由 A 移至 C\n",
      "盤由 A 移至 B\n",
      "盤由 C 移至 B\n",
      "盤由 A 移至 C\n",
      "盤由 B 移至 A\n",
      "盤由 B 移至 C\n",
      "盤由 A 移至 C\n"
     ]
    }
   ],
   "source": [
    "def hanoi(n, A, B, C):\n",
    "    if n == 1:\n",
    "        return [(A, C)]\n",
    "    else:\n",
    "        return hanoi(n-1, A, C, B) + hanoi(1, A, B, C) + hanoi(n-1, B, A, C)\n",
    "\n",
    "n = input(\"請輸入整數：\")\n",
    "for move in hanoi(int(n), 'A', 'B', 'C'):\n",
    "    print(\"盤由 %c 移至 %c\" % move)\n"
   ]
  },
  {
   "cell_type": "code",
   "execution_count": null,
   "metadata": {},
   "outputs": [],
   "source": []
  }
 ],
 "metadata": {
  "kernelspec": {
   "display_name": "Python_3-6",
   "language": "python",
   "name": "python_3-6"
  },
  "language_info": {
   "codemirror_mode": {
    "name": "ipython",
    "version": 3
   },
   "file_extension": ".py",
   "mimetype": "text/x-python",
   "name": "python",
   "nbconvert_exporter": "python",
   "pygments_lexer": "ipython3",
   "version": "3.6.15"
  }
 },
 "nbformat": 4,
 "nbformat_minor": 4
}
