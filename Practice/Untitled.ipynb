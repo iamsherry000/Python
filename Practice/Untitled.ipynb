{
 "cells": [
  {
   "cell_type": "markdown",
   "metadata": {},
   "source": [
    "+ 動態規劃:\n",
    "    不斷去找更好的結果\n",
    "    基於小問題的最佳解答來解決大問題，最後得到的就是大問題的最佳解。\n",
    "+ Greedy:\n",
    "    總是選擇最好的結果(但可能其實不是最好的)\n",
    "    X always solution"
   ]
  },
  {
   "cell_type": "code",
   "execution_count": null,
   "metadata": {},
   "outputs": [],
   "source": []
  }
 ],
 "metadata": {
  "kernelspec": {
   "display_name": "Python_3-6",
   "language": "python",
   "name": "python_3-6"
  },
  "language_info": {
   "codemirror_mode": {
    "name": "ipython",
    "version": 3
   },
   "file_extension": ".py",
   "mimetype": "text/x-python",
   "name": "python",
   "nbconvert_exporter": "python",
   "pygments_lexer": "ipython3",
   "version": "3.6.15"
  }
 },
 "nbformat": 4,
 "nbformat_minor": 4
}
