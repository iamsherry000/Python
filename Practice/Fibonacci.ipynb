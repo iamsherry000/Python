{
 "cells": [
  {
   "cell_type": "code",
   "execution_count": 19,
   "metadata": {},
   "outputs": [
    {
     "name": "stdout",
     "output_type": "stream",
     "text": [
      "input number >=2 : 3\n",
      "0 1 1 "
     ]
    }
   ],
   "source": [
    "# Fabonacci = [0,1,1,2,3,5,8,13,21,34,55...]\n",
    "\n",
    "number = int(input('input number >=2 : '))\n",
    "def fibonacci(n, fib = [0, 1]):\n",
    "    if n >= len(fib):\n",
    "        for i in range(len(fib), n + 1):\n",
    "            fib.append(fib[i - 1] + fib[i - 2])\n",
    "    return fib[n]\n",
    "\n",
    "for i in range(0, number):\n",
    "    print(fibonacci(i), end=' ')\n"
   ]
  },
  {
   "cell_type": "code",
   "execution_count": 10,
   "metadata": {},
   "outputs": [
    {
     "name": "stdout",
     "output_type": "stream",
     "text": [
      "[0, 1]\n"
     ]
    }
   ],
   "source": [
    "F = [0,1]\n",
    "print(F)"
   ]
  },
  {
   "cell_type": "code",
   "execution_count": 22,
   "metadata": {},
   "outputs": [
    {
     "name": "stdout",
     "output_type": "stream",
     "text": [
      "input number >=2 : 4\n",
      "0 1 1 2 "
     ]
    }
   ],
   "source": [
    "number = int(input('input number >=2 : '))\n",
    "def Fibonacci(n,F = [0,1]):\n",
    "    if n>=len(F):\n",
    "        for i in range(len(F),n+1):\n",
    "            F.append(F[i-1] + F[i-2])\n",
    "    return F[n]\n",
    "\n",
    "for i in range(0,number):\n",
    "    print(Fibonacci(i), end=' ')\n"
   ]
  },
  {
   "cell_type": "code",
   "execution_count": null,
   "metadata": {},
   "outputs": [],
   "source": []
  }
 ],
 "metadata": {
  "kernelspec": {
   "display_name": "Python_3-6",
   "language": "python",
   "name": "python_3-6"
  },
  "language_info": {
   "codemirror_mode": {
    "name": "ipython",
    "version": 3
   },
   "file_extension": ".py",
   "mimetype": "text/x-python",
   "name": "python",
   "nbconvert_exporter": "python",
   "pygments_lexer": "ipython3",
   "version": "3.6.15"
  }
 },
 "nbformat": 4,
 "nbformat_minor": 4
}
