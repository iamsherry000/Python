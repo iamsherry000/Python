{
 "cells": [
  {
   "cell_type": "code",
   "execution_count": 1,
   "metadata": {},
   "outputs": [
    {
     "name": "stderr",
     "output_type": "stream",
     "text": [
      "C:\\Users\\iamsh\\anaconda3\\lib\\site-packages\\ipykernel_launcher.py:47: DeprecationWarning: ANTIALIAS is deprecated and will be removed in Pillow 10 (2023-07-01). Use Resampling.LANCZOS instead.\n"
     ]
    },
    {
     "ename": "UnidentifiedImageError",
     "evalue": "cannot identify image file 'D:/github/Python/FinalProject/images/9.jpg'",
     "output_type": "error",
     "traceback": [
      "\u001b[1;31m---------------------------------------------------------------------------\u001b[0m",
      "\u001b[1;31mUnidentifiedImageError\u001b[0m                    Traceback (most recent call last)",
      "\u001b[1;32m<ipython-input-1-ec92f6227804>\u001b[0m in \u001b[0;36m<module>\u001b[1;34m\u001b[0m\n\u001b[0;32m     44\u001b[0m \u001b[1;33m\u001b[0m\u001b[0m\n\u001b[0;32m     45\u001b[0m \u001b[1;32mfor\u001b[0m \u001b[0mi\u001b[0m \u001b[1;32min\u001b[0m \u001b[0mrange\u001b[0m\u001b[1;33m(\u001b[0m\u001b[1;36m1\u001b[0m\u001b[1;33m,\u001b[0m\u001b[1;36m11\u001b[0m\u001b[1;33m)\u001b[0m\u001b[1;33m:\u001b[0m\u001b[1;33m\u001b[0m\u001b[1;33m\u001b[0m\u001b[0m\n\u001b[1;32m---> 46\u001b[1;33m     \u001b[0mimage\u001b[0m \u001b[1;33m=\u001b[0m \u001b[0mImage\u001b[0m\u001b[1;33m.\u001b[0m\u001b[0mopen\u001b[0m\u001b[1;33m(\u001b[0m\u001b[1;34mf'D:/github/Python/FinalProject/images/{i}.jpg'\u001b[0m\u001b[1;33m)\u001b[0m \u001b[1;31m#讀入圖片\u001b[0m\u001b[1;33m\u001b[0m\u001b[1;33m\u001b[0m\u001b[0m\n\u001b[0m\u001b[0;32m     47\u001b[0m     \u001b[0mglobals\u001b[0m\u001b[1;33m(\u001b[0m\u001b[1;33m)\u001b[0m\u001b[1;33m[\u001b[0m\u001b[1;34mf'img{i}'\u001b[0m\u001b[1;33m]\u001b[0m \u001b[1;33m=\u001b[0m \u001b[0mimage\u001b[0m\u001b[1;33m.\u001b[0m\u001b[0mresize\u001b[0m\u001b[1;33m(\u001b[0m\u001b[1;33m(\u001b[0m\u001b[1;36m500\u001b[0m\u001b[1;33m,\u001b[0m\u001b[1;36m300\u001b[0m\u001b[1;33m)\u001b[0m\u001b[1;33m,\u001b[0m\u001b[0mImage\u001b[0m\u001b[1;33m.\u001b[0m\u001b[0mANTIALIAS\u001b[0m\u001b[1;33m)\u001b[0m\u001b[1;33m\u001b[0m\u001b[1;33m\u001b[0m\u001b[0m\n\u001b[0;32m     48\u001b[0m     \u001b[0mglobals\u001b[0m\u001b[1;33m(\u001b[0m\u001b[1;33m)\u001b[0m\u001b[1;33m[\u001b[0m\u001b[1;34mf'img{i}'\u001b[0m\u001b[1;33m]\u001b[0m \u001b[1;33m=\u001b[0m \u001b[0mImageTk\u001b[0m\u001b[1;33m.\u001b[0m\u001b[0mPhotoImage\u001b[0m\u001b[1;33m(\u001b[0m\u001b[0mglobals\u001b[0m\u001b[1;33m(\u001b[0m\u001b[1;33m)\u001b[0m\u001b[1;33m[\u001b[0m\u001b[1;34mf'img{i}'\u001b[0m\u001b[1;33m]\u001b[0m\u001b[1;33m)\u001b[0m\u001b[1;31m#把圖片轉成tkinter的格式\u001b[0m\u001b[1;33m\u001b[0m\u001b[1;33m\u001b[0m\u001b[0m\n",
      "\u001b[1;32m~\\anaconda3\\lib\\site-packages\\PIL\\Image.py\u001b[0m in \u001b[0;36mopen\u001b[1;34m(fp, mode, formats)\u001b[0m\n\u001b[0;32m   3122\u001b[0m         \u001b[0mwarnings\u001b[0m\u001b[1;33m.\u001b[0m\u001b[0mwarn\u001b[0m\u001b[1;33m(\u001b[0m\u001b[0mmessage\u001b[0m\u001b[1;33m)\u001b[0m\u001b[1;33m\u001b[0m\u001b[1;33m\u001b[0m\u001b[0m\n\u001b[0;32m   3123\u001b[0m     raise UnidentifiedImageError(\n\u001b[1;32m-> 3124\u001b[1;33m         \u001b[1;34m\"cannot identify image file %r\"\u001b[0m \u001b[1;33m%\u001b[0m \u001b[1;33m(\u001b[0m\u001b[0mfilename\u001b[0m \u001b[1;32mif\u001b[0m \u001b[0mfilename\u001b[0m \u001b[1;32melse\u001b[0m \u001b[0mfp\u001b[0m\u001b[1;33m)\u001b[0m\u001b[1;33m\u001b[0m\u001b[1;33m\u001b[0m\u001b[0m\n\u001b[0m\u001b[0;32m   3125\u001b[0m     )\n\u001b[0;32m   3126\u001b[0m \u001b[1;33m\u001b[0m\u001b[0m\n",
      "\u001b[1;31mUnidentifiedImageError\u001b[0m: cannot identify image file 'D:/github/Python/FinalProject/images/9.jpg'"
     ]
    }
   ],
   "source": [
    "from tkinter import *\n",
    "import os\n",
    "from PIL import Image, ImageTk\n",
    "import numpy as np\n",
    "from matplotlib.backends.backend_tkagg import FigureCanvasTkAgg, NavigationToolbar2Tk\n",
    "from matplotlib.backend_bases import key_press_handler\n",
    "from matplotlib.figure import Figure\n",
    "\n",
    "window=Tk()\n",
    "window.title(\"Dcard梗圖收集器\")\n",
    "window.geometry(\"2000x1000\")\n",
    "window.config(bg=\"white\")\n",
    "\n",
    "def show(buttonString):  #顯示字在label\n",
    "    content = equ.get()\n",
    "    equ.set(buttonString)#content + tag累加\n",
    "def backspace(): #倒退\n",
    "    equ.set(str(equ.get()[:-20]))\n",
    "\n",
    "    \n",
    "equ = StringVar()#變數\n",
    "equ.set(\"\")\n",
    "a1= Label(window,text=\"Dcard梗圖收集器\",bg=\"#3264a0\",font=(\"標楷體\", 50),fg=\"#FFFFFF\",relief=RAISED)\n",
    "b1 = Entry(window,selectbackground=\"#1e46b4\",font=(\"標楷體\", 30),textvariable=equ)\n",
    "btn = Button(window,text=\"刪除\",bg=\"white\",height=4,command=backspace)\n",
    "btn1 = Button(window,text=\"搜尋\",bg=\"white\",height=2,width=5)\n",
    "btn2 = Button(window,text=\"#梗圖\",bg=\"white\",command=lambda:show(\"梗圖\"))\n",
    "btn3 = Button(window,text=\"#迷因\",bg=\"white\",command=lambda:show(\"迷因\"))\n",
    "btn4 = Button(window,text=\"#搞笑\",bg=\"white\",command=lambda:show(\"搞笑\"))\n",
    "btn5 = Button(window,text=\"#有趣\",bg=\"white\",command=lambda:show(\"有趣\"))\n",
    "btn6 = Button(window,text=\"#廢文\",bg=\"white\",command=lambda:show(\"廢文\"))\n",
    "a2= Label(window,text=\"!!梗圖排名!!\",bg=\"#508cf0\",font=(\"標楷體\", 20),fg=\"#FFFFFF\",relief=RAISED)\n",
    "\n",
    "'''\n",
    "image=Image.open(\"D:/github/Python/FinalProject/aqua.png\")#讀入圖片\n",
    "\n",
    "img = image.resize((200,200),Image.ANTIALIAS) \n",
    "\n",
    "img = ImageTk.PhotoImage(img)#把圖片轉成tkinter的格式\n",
    "\n",
    "a3 = Label(window,image=img)#將圖片標籤化\n",
    "a3.config(width=200, height=200)\n",
    "'''\n",
    "\n",
    "for i in range(1,11):\n",
    "    image = Image.open(f'D:/github/Python/FinalProject/images/{i}.jpg') #讀入圖片\n",
    "    globals()[f'img{i}'] = image.resize((500,300),Image.ANTIALIAS)\n",
    "    globals()[f'img{i}'] = ImageTk.PhotoImage(globals()[f'img{i}'])#把圖片轉成tkinter的格式\n",
    "    globals()[f'p{i}'] = Label(window,image=globals()[f'img{i}'])\n",
    "\n",
    "\n",
    "'''''''''''''''''''''''''位置'''''''''''''''''''''''''''\n",
    "\n",
    "a1.place(x = 0, y =0,width=1000,height=100)\n",
    "b1.place(x = 0, y =100,width=600,height=50)\n",
    "btn.place(x = 600, y =100,width=200,height=50)\n",
    "btn1.place(x = 800, y =100,width=200,height=50)\n",
    "\n",
    "btn2.place(x = 0, y =150,width=200,height=50)\n",
    "btn3.place(x = 200, y =150,width=200,height=50)\n",
    "btn4.place(x = 400, y =150,width=200,height=50)\n",
    "btn5.place(x = 600, y =150,width=200,height=50)\n",
    "btn6.place(x = 800, y =150,width=200,height=50)\n",
    "\n",
    "a2.place(x=0, y =200,width=1000,height=50)\n",
    "\n",
    "p1.place(x=0,y=250)\n",
    "p2.place(x=500,y=250)\n",
    "\n",
    "for i in range(3,11):\n",
    "    if i < 7:\n",
    "        globals()[f'p{i}'].place(x=1000,y=250*(i-3))\n",
    "        \n",
    "    else:\n",
    "        globals()[f'p{i}'].place(x=1500,y=250*(i-7))\n",
    "\n",
    "window.mainloop()"
   ]
  },
  {
   "cell_type": "code",
   "execution_count": null,
   "metadata": {},
   "outputs": [],
   "source": []
  }
 ],
 "metadata": {
  "kernelspec": {
   "display_name": "Python 3",
   "language": "python",
   "name": "python3"
  },
  "language_info": {
   "codemirror_mode": {
    "name": "ipython",
    "version": 3
   },
   "file_extension": ".py",
   "mimetype": "text/x-python",
   "name": "python",
   "nbconvert_exporter": "python",
   "pygments_lexer": "ipython3",
   "version": "3.7.6"
  }
 },
 "nbformat": 4,
 "nbformat_minor": 4
}
